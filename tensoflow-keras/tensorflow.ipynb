{
 "cells": [
  {
   "cell_type": "code",
   "execution_count": 2,
   "id": "2774b5d2",
   "metadata": {},
   "outputs": [],
   "source": [
    "import tensorflow as tf\n",
    "import numpy as np"
   ]
  },
  {
   "cell_type": "code",
   "execution_count": 3,
   "id": "6091debf",
   "metadata": {},
   "outputs": [
    {
     "data": {
      "text/plain": [
       "'2.5.0'"
      ]
     },
     "execution_count": 3,
     "metadata": {},
     "output_type": "execute_result"
    }
   ],
   "source": [
    "tf.__version__"
   ]
  },
  {
   "cell_type": "code",
   "execution_count": 32,
   "id": "44958f52",
   "metadata": {},
   "outputs": [],
   "source": [
    "w = tf.Variable(0.5, dtype=tf.float32)\n",
    "optimizer = tf.keras.optimizers.Adam(0.1)\n",
    "\n",
    "def train_step():\n",
    "    with tf.GradientTape() as tape:\n",
    "        cost = w**2 - 10*w + 25\n",
    "    trainable_variables = [w]\n",
    "    grads = tape.gradient(cost, trainable_variables)\n",
    "    optimizer.apply_gradients(zip(grads, trainable_variables))"
   ]
  },
  {
   "cell_type": "code",
   "execution_count": 33,
   "id": "e7cb2976",
   "metadata": {},
   "outputs": [
    {
     "name": "stdout",
     "output_type": "stream",
     "text": [
      "Initial value:  <tf.Variable 'Variable:0' shape=() dtype=float32, numpy=0.5>\n",
      "Final value: <tf.Variable 'Variable:0' shape=() dtype=float32, numpy=4.9999995>\n"
     ]
    }
   ],
   "source": [
    "print(\"Initial value: \", w)\n",
    "\n",
    "for i in range(1000):\n",
    "    train_step()\n",
    "print(\"Final value:\", w)"
   ]
  },
  {
   "cell_type": "code",
   "execution_count": 9,
   "id": "19d420e4",
   "metadata": {},
   "outputs": [],
   "source": [
    "w = tf.Variable(0, dtype=tf.float32)\n",
    "optimizer = tf.keras.optimizers.Adam(0.1)\n",
    "\n",
    "def alternative_train_step():\n",
    "    cost = lambda : w**2 - 10*w + 25\n",
    "    optimizer.minimize(cost, [w])"
   ]
  },
  {
   "cell_type": "code",
   "execution_count": 10,
   "id": "8af4c43c",
   "metadata": {},
   "outputs": [
    {
     "name": "stdout",
     "output_type": "stream",
     "text": [
      "Initial value:  <tf.Variable 'Variable:0' shape=() dtype=float32, numpy=0.0>\n",
      "Final value: <tf.Variable 'Variable:0' shape=() dtype=float32, numpy=5.000001>\n"
     ]
    }
   ],
   "source": [
    "print(\"Initial value: \", w)\n",
    "\n",
    "for i in range(1000):\n",
    "    train_step()\n",
    "print(\"Final value:\", w)"
   ]
  },
  {
   "cell_type": "code",
   "execution_count": null,
   "id": "1652ee3e",
   "metadata": {},
   "outputs": [],
   "source": []
  }
 ],
 "metadata": {
  "kernelspec": {
   "display_name": "Python 3 (ipykernel)",
   "language": "python",
   "name": "python3"
  },
  "language_info": {
   "codemirror_mode": {
    "name": "ipython",
    "version": 3
   },
   "file_extension": ".py",
   "mimetype": "text/x-python",
   "name": "python",
   "nbconvert_exporter": "python",
   "pygments_lexer": "ipython3",
   "version": "3.9.6"
  }
 },
 "nbformat": 4,
 "nbformat_minor": 5
}
