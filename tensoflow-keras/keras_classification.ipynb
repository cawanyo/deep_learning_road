{
 "cells": [
  {
   "cell_type": "code",
   "execution_count": 1,
   "id": "0709a92a",
   "metadata": {},
   "outputs": [],
   "source": [
    "import tensorflow as tf\n",
    "import numpy as np\n",
    "from tensorflow import keras\n",
    "import matplotlib.pyplot as plt"
   ]
  },
  {
   "cell_type": "markdown",
   "id": "a0ba62ef",
   "metadata": {},
   "source": [
    "# Loading the dataset "
   ]
  },
  {
   "cell_type": "code",
   "execution_count": 2,
   "id": "2bcb6f67",
   "metadata": {},
   "outputs": [],
   "source": [
    "mnist = keras.datasets.fashion_mnist\n",
    "(x_train, y_train), (x_test, y_test) = mnist.load_data()\n",
    "\n",
    "#normalization of the input\n",
    "x_train, x_test = x_train/255.0, x_test/255.0"
   ]
  },
  {
   "cell_type": "markdown",
   "id": "e8bc6b3c",
   "metadata": {},
   "source": [
    "# Try a simple Stack of dense layer"
   ]
  },
  {
   "cell_type": "code",
   "execution_count": 3,
   "id": "9a99d6a9",
   "metadata": {},
   "outputs": [],
   "source": [
    "#definition of the model\n",
    "model = keras.Sequential()\n",
    "model.add(keras.layers.Flatten(input_shape=(28,28,1)))\n",
    "model.add(keras.layers.Dense(128, activation='relu'))\n",
    "model.add(keras.layers.Dense(10, activation='softmax'))\n",
    "\n",
    "#setting the learning parameters\n",
    "model.compile(optimizer='sgd', loss='sparse_categorical_crossentropy', metrics=['accuracy'])"
   ]
  },
  {
   "cell_type": "code",
   "execution_count": 4,
   "id": "e8863949",
   "metadata": {
    "scrolled": true
   },
   "outputs": [
    {
     "name": "stdout",
     "output_type": "stream",
     "text": [
      "Epoch 1/50\n",
      "1875/1875 [==============================] - 3s 2ms/step - loss: 0.7501 - accuracy: 0.7570 - val_loss: 0.5680 - val_accuracy: 0.8062\n",
      "Epoch 2/50\n",
      "1875/1875 [==============================] - 3s 2ms/step - loss: 0.5157 - accuracy: 0.8251 - val_loss: 0.5053 - val_accuracy: 0.8249\n",
      "Epoch 3/50\n",
      "1875/1875 [==============================] - 3s 2ms/step - loss: 0.4711 - accuracy: 0.8365 - val_loss: 0.4914 - val_accuracy: 0.8273\n",
      "Epoch 4/50\n",
      "1875/1875 [==============================] - 3s 2ms/step - loss: 0.4454 - accuracy: 0.8457 - val_loss: 0.4727 - val_accuracy: 0.8337\n",
      "Epoch 5/50\n",
      "1875/1875 [==============================] - 3s 2ms/step - loss: 0.4273 - accuracy: 0.8515 - val_loss: 0.4570 - val_accuracy: 0.8420\n",
      "Epoch 6/50\n",
      "1875/1875 [==============================] - 3s 2ms/step - loss: 0.4136 - accuracy: 0.8565 - val_loss: 0.4423 - val_accuracy: 0.8442\n",
      "Epoch 7/50\n",
      "1875/1875 [==============================] - 3s 2ms/step - loss: 0.4018 - accuracy: 0.8603 - val_loss: 0.4472 - val_accuracy: 0.8395\n",
      "Epoch 8/50\n",
      "1875/1875 [==============================] - 3s 2ms/step - loss: 0.3926 - accuracy: 0.8639 - val_loss: 0.4291 - val_accuracy: 0.8506\n",
      "Epoch 9/50\n",
      "1875/1875 [==============================] - 3s 2ms/step - loss: 0.3847 - accuracy: 0.8671 - val_loss: 0.4266 - val_accuracy: 0.8500\n",
      "Epoch 10/50\n",
      "1875/1875 [==============================] - 3s 2ms/step - loss: 0.3772 - accuracy: 0.8684 - val_loss: 0.4230 - val_accuracy: 0.8500\n",
      "Epoch 11/50\n",
      "1875/1875 [==============================] - 3s 2ms/step - loss: 0.3708 - accuracy: 0.8708 - val_loss: 0.4113 - val_accuracy: 0.8567\n",
      "Epoch 12/50\n",
      "1875/1875 [==============================] - 3s 2ms/step - loss: 0.3630 - accuracy: 0.8733 - val_loss: 0.4062 - val_accuracy: 0.8555\n",
      "Epoch 13/50\n",
      "1875/1875 [==============================] - 3s 2ms/step - loss: 0.3574 - accuracy: 0.8757 - val_loss: 0.4218 - val_accuracy: 0.8472\n",
      "Epoch 14/50\n",
      "1875/1875 [==============================] - 3s 2ms/step - loss: 0.3520 - accuracy: 0.8755 - val_loss: 0.4042 - val_accuracy: 0.8557\n",
      "Epoch 15/50\n",
      "1875/1875 [==============================] - 3s 2ms/step - loss: 0.3463 - accuracy: 0.8795 - val_loss: 0.3885 - val_accuracy: 0.8637\n",
      "Epoch 16/50\n",
      "1875/1875 [==============================] - 3s 2ms/step - loss: 0.3410 - accuracy: 0.8795 - val_loss: 0.4085 - val_accuracy: 0.8517\n",
      "Epoch 17/50\n",
      "1875/1875 [==============================] - 3s 2ms/step - loss: 0.3366 - accuracy: 0.8816 - val_loss: 0.3843 - val_accuracy: 0.8647\n",
      "Epoch 18/50\n",
      "1875/1875 [==============================] - 3s 2ms/step - loss: 0.3318 - accuracy: 0.8831 - val_loss: 0.3795 - val_accuracy: 0.8649\n",
      "Epoch 19/50\n",
      "1875/1875 [==============================] - 3s 2ms/step - loss: 0.3272 - accuracy: 0.8846 - val_loss: 0.3745 - val_accuracy: 0.8679\n",
      "Epoch 20/50\n",
      "1875/1875 [==============================] - 3s 2ms/step - loss: 0.3236 - accuracy: 0.8860 - val_loss: 0.3719 - val_accuracy: 0.8718\n",
      "Epoch 21/50\n",
      "1875/1875 [==============================] - 3s 2ms/step - loss: 0.3191 - accuracy: 0.8883 - val_loss: 0.3723 - val_accuracy: 0.8686\n",
      "Epoch 22/50\n",
      "1875/1875 [==============================] - 3s 2ms/step - loss: 0.3154 - accuracy: 0.8878 - val_loss: 0.3662 - val_accuracy: 0.8714\n",
      "Epoch 23/50\n",
      "1875/1875 [==============================] - 3s 2ms/step - loss: 0.3113 - accuracy: 0.8902 - val_loss: 0.3779 - val_accuracy: 0.8659\n",
      "Epoch 24/50\n",
      "1875/1875 [==============================] - 3s 2ms/step - loss: 0.3078 - accuracy: 0.8911 - val_loss: 0.3673 - val_accuracy: 0.8725\n",
      "Epoch 25/50\n",
      "1875/1875 [==============================] - 3s 2ms/step - loss: 0.3039 - accuracy: 0.8918 - val_loss: 0.3602 - val_accuracy: 0.8724\n",
      "Epoch 26/50\n",
      "1875/1875 [==============================] - 3s 2ms/step - loss: 0.3006 - accuracy: 0.8942 - val_loss: 0.3609 - val_accuracy: 0.8712\n",
      "Epoch 27/50\n",
      "1875/1875 [==============================] - 4s 2ms/step - loss: 0.2974 - accuracy: 0.8950 - val_loss: 0.3616 - val_accuracy: 0.8722\n",
      "Epoch 28/50\n",
      "1875/1875 [==============================] - 4s 2ms/step - loss: 0.2945 - accuracy: 0.8958 - val_loss: 0.3546 - val_accuracy: 0.8738\n",
      "Epoch 29/50\n",
      "1875/1875 [==============================] - 3s 2ms/step - loss: 0.2913 - accuracy: 0.8965 - val_loss: 0.3633 - val_accuracy: 0.8727\n",
      "Epoch 30/50\n",
      "1875/1875 [==============================] - 3s 2ms/step - loss: 0.2885 - accuracy: 0.8975 - val_loss: 0.3527 - val_accuracy: 0.8740\n",
      "Epoch 31/50\n",
      "1875/1875 [==============================] - 3s 2ms/step - loss: 0.2858 - accuracy: 0.8987 - val_loss: 0.3528 - val_accuracy: 0.8739\n",
      "Epoch 32/50\n",
      "1875/1875 [==============================] - 4s 2ms/step - loss: 0.2826 - accuracy: 0.9000 - val_loss: 0.3763 - val_accuracy: 0.8682\n",
      "Epoch 33/50\n",
      "1875/1875 [==============================] - 7s 3ms/step - loss: 0.2797 - accuracy: 0.9006 - val_loss: 0.3477 - val_accuracy: 0.8787\n",
      "Epoch 34/50\n",
      "1875/1875 [==============================] - 5s 3ms/step - loss: 0.2777 - accuracy: 0.9007 - val_loss: 0.3522 - val_accuracy: 0.8716\n",
      "Epoch 35/50\n",
      "1875/1875 [==============================] - 3s 2ms/step - loss: 0.2744 - accuracy: 0.9023 - val_loss: 0.3488 - val_accuracy: 0.8755\n",
      "Epoch 36/50\n",
      "1875/1875 [==============================] - 3s 2ms/step - loss: 0.2725 - accuracy: 0.9039 - val_loss: 0.3418 - val_accuracy: 0.8802\n",
      "Epoch 37/50\n",
      "1875/1875 [==============================] - 4s 2ms/step - loss: 0.2701 - accuracy: 0.9041 - val_loss: 0.3403 - val_accuracy: 0.8782\n",
      "Epoch 38/50\n",
      "1875/1875 [==============================] - 3s 2ms/step - loss: 0.2674 - accuracy: 0.9046 - val_loss: 0.3411 - val_accuracy: 0.8815\n",
      "Epoch 39/50\n",
      "1875/1875 [==============================] - 3s 2ms/step - loss: 0.2654 - accuracy: 0.9056 - val_loss: 0.3467 - val_accuracy: 0.8765\n",
      "Epoch 40/50\n",
      "1875/1875 [==============================] - 3s 1ms/step - loss: 0.2635 - accuracy: 0.9062 - val_loss: 0.3436 - val_accuracy: 0.8807\n",
      "Epoch 41/50\n",
      "1875/1875 [==============================] - 3s 2ms/step - loss: 0.2610 - accuracy: 0.9064 - val_loss: 0.3439 - val_accuracy: 0.8773\n",
      "Epoch 42/50\n",
      "1875/1875 [==============================] - 3s 1ms/step - loss: 0.2587 - accuracy: 0.9086 - val_loss: 0.3399 - val_accuracy: 0.8809\n",
      "Epoch 43/50\n",
      "1875/1875 [==============================] - 3s 2ms/step - loss: 0.2565 - accuracy: 0.9092 - val_loss: 0.3458 - val_accuracy: 0.8787\n",
      "Epoch 44/50\n",
      "1875/1875 [==============================] - 3s 2ms/step - loss: 0.2549 - accuracy: 0.9095 - val_loss: 0.3344 - val_accuracy: 0.8822\n",
      "Epoch 45/50\n",
      "1875/1875 [==============================] - 3s 2ms/step - loss: 0.2526 - accuracy: 0.9105 - val_loss: 0.3364 - val_accuracy: 0.8770\n",
      "Epoch 46/50\n",
      "1875/1875 [==============================] - 3s 1ms/step - loss: 0.2507 - accuracy: 0.9107 - val_loss: 0.3349 - val_accuracy: 0.8809\n",
      "Epoch 47/50\n",
      "1875/1875 [==============================] - 3s 1ms/step - loss: 0.2489 - accuracy: 0.9111 - val_loss: 0.3357 - val_accuracy: 0.8791\n",
      "Epoch 48/50\n",
      "1875/1875 [==============================] - 3s 2ms/step - loss: 0.2466 - accuracy: 0.9125 - val_loss: 0.3332 - val_accuracy: 0.8830\n",
      "Epoch 49/50\n",
      "1875/1875 [==============================] - 3s 1ms/step - loss: 0.2451 - accuracy: 0.9122 - val_loss: 0.3294 - val_accuracy: 0.8846\n",
      "Epoch 50/50\n",
      "1875/1875 [==============================] - 3s 1ms/step - loss: 0.2434 - accuracy: 0.9132 - val_loss: 0.3318 - val_accuracy: 0.8848\n"
     ]
    },
    {
     "data": {
      "text/plain": [
       "<tensorflow.python.keras.callbacks.History at 0x29d9cd27a90>"
      ]
     },
     "execution_count": 4,
     "metadata": {},
     "output_type": "execute_result"
    }
   ],
   "source": [
    "#trainin of the model\n",
    "model.fit(x_train, y_train,validation_data=(x_test, y_test), epochs=50)"
   ]
  },
  {
   "cell_type": "code",
   "execution_count": 5,
   "id": "c53dc257",
   "metadata": {},
   "outputs": [
    {
     "name": "stdout",
     "output_type": "stream",
     "text": [
      "313/313 [==============================] - 0s 1ms/step - loss: 0.3318 - accuracy: 0.8848\n"
     ]
    },
    {
     "data": {
      "text/plain": [
       "[0.3317960500717163, 0.8848000168800354]"
      ]
     },
     "execution_count": 5,
     "metadata": {},
     "output_type": "execute_result"
    }
   ],
   "source": [
    "#see the loss of the test set properly\n",
    "model.evaluate(x_test, y_test)"
   ]
  },
  {
   "cell_type": "markdown",
   "id": "fe989102",
   "metadata": {},
   "source": [
    "# Introduce callback"
   ]
  },
  {
   "cell_type": "markdown",
   "id": "d7e2b7e9",
   "metadata": {},
   "source": [
    "This is use to control the behavior in the training step. \n",
    "We can define a condition to stop the training at some point of store the model"
   ]
  },
  {
   "cell_type": "code",
   "execution_count": 6,
   "id": "cac1b5bd",
   "metadata": {},
   "outputs": [],
   "source": [
    "class StopCallback(keras.callbacks.Callback):\n",
    "    def __init__(self, threshold=0.4):\n",
    "        self.threshold = threshold\n",
    "    def on_epoch_end(self, epoch, logs={}):\n",
    "        if(logs.get('loss') < self.threshold):\n",
    "            print(\"Threshold is met\")\n",
    "            self.model.stop_training = True"
   ]
  },
  {
   "cell_type": "markdown",
   "id": "4ea14e21",
   "metadata": {},
   "source": [
    "# Add callaback to the model\n"
   ]
  },
  {
   "cell_type": "code",
   "execution_count": 7,
   "id": "b048b34c",
   "metadata": {},
   "outputs": [],
   "source": [
    "#definition of the model\n",
    "model = keras.Sequential()\n",
    "model.add(keras.layers.Flatten(input_shape=(28,28,1)))\n",
    "model.add(keras.layers.Dense(128, activation='relu'))\n",
    "model.add(keras.layers.Dense(10, activation='softmax'))\n",
    "\n",
    "#setting the learning parameters\n",
    "model.compile(optimizer='sgd', loss='sparse_categorical_crossentropy', metrics=['accuracy'])"
   ]
  },
  {
   "cell_type": "code",
   "execution_count": 8,
   "id": "0ba9b063",
   "metadata": {},
   "outputs": [
    {
     "name": "stdout",
     "output_type": "stream",
     "text": [
      "Epoch 1/10\n",
      "1875/1875 [==============================] - 3s 1ms/step - loss: 0.7496 - accuracy: 0.7537\n",
      "Epoch 2/10\n",
      "1875/1875 [==============================] - 3s 2ms/step - loss: 0.5183 - accuracy: 0.8236\n",
      "Epoch 3/10\n",
      "1875/1875 [==============================] - 2s 1ms/step - loss: 0.4712 - accuracy: 0.8382\n",
      "Threshold is met\n"
     ]
    },
    {
     "data": {
      "text/plain": [
       "<tensorflow.python.keras.callbacks.History at 0x29d9cd2aaf0>"
      ]
     },
     "execution_count": 8,
     "metadata": {},
     "output_type": "execute_result"
    }
   ],
   "source": [
    "#train the model with the callback included\n",
    "model.fit(x_train, y_train, callbacks=[StopCallback(0.5)], epochs=10)"
   ]
  },
  {
   "cell_type": "markdown",
   "id": "aa3e442a",
   "metadata": {},
   "source": [
    "# Improved version of the model"
   ]
  },
  {
   "cell_type": "markdown",
   "id": "1ce103c2",
   "metadata": {},
   "source": [
    "Add convolution and pooling layers <br>\n",
    "The goal of the convolution layers is to extract the usefull features in the image <br>\n",
    "The pooling will reduce the shape of and assure that only the most relavent feature <br>\n",
    "are send forward"
   ]
  },
  {
   "cell_type": "code",
   "execution_count": 9,
   "id": "08dd5d14",
   "metadata": {},
   "outputs": [],
   "source": [
    "#definition of the model\n",
    "model = keras.Sequential()\n",
    "model.add(keras.layers.Conv2D(64,kernel_size=(3,3), activation='relu', input_shape=(28,28,1)))\n",
    "model.add(keras.layers.MaxPooling2D(2,2))\n",
    "model.add(keras.layers.Conv2D(64, kernel_size=(3,3), activation='relu'))\n",
    "model.add(keras.layers.MaxPooling2D(2,2))\n",
    "model.add(keras.layers.Flatten())\n",
    "model.add(keras.layers.Dense(128, activation='relu'))\n",
    "model.add(keras.layers.Dense(10, activation='softmax'))\n",
    "\n",
    "#setting the learning parameters\n",
    "model.compile(optimizer='sgd', loss='sparse_categorical_crossentropy', metrics=['accuracy'])"
   ]
  },
  {
   "cell_type": "code",
   "execution_count": 10,
   "id": "835184b4",
   "metadata": {},
   "outputs": [],
   "source": [
    "#we need to assure that the image are (28,28,1)\n",
    "#so we need to add the last axis to form the channel\n",
    "x_train, x_test = x_train[:,:,:, np.newaxis], x_test[:,:,:,np.newaxis]"
   ]
  },
  {
   "cell_type": "code",
   "execution_count": 11,
   "id": "50cc7a4a",
   "metadata": {},
   "outputs": [
    {
     "name": "stdout",
     "output_type": "stream",
     "text": [
      "Epoch 1/50\n",
      "1875/1875 [==============================] - 77s 41ms/step - loss: 0.9115 - accuracy: 0.6676\n",
      "Epoch 2/50\n",
      "1875/1875 [==============================] - 60s 32ms/step - loss: 0.5420 - accuracy: 0.7986\n",
      "Epoch 3/50\n",
      "1875/1875 [==============================] - 62s 33ms/step - loss: 0.4659 - accuracy: 0.8303\n",
      "Epoch 4/50\n",
      "1875/1875 [==============================] - 61s 33ms/step - loss: 0.4212 - accuracy: 0.8472\n",
      "Epoch 5/50\n",
      "1875/1875 [==============================] - 61s 32ms/step - loss: 0.3911 - accuracy: 0.8576\n",
      "Epoch 6/50\n",
      "1875/1875 [==============================] - 57s 31ms/step - loss: 0.3690 - accuracy: 0.8658\n",
      "Epoch 7/50\n",
      "1875/1875 [==============================] - 61s 32ms/step - loss: 0.3499 - accuracy: 0.8725\n",
      "Epoch 8/50\n",
      "1875/1875 [==============================] - 65s 35ms/step - loss: 0.3325 - accuracy: 0.8801\n",
      "Epoch 9/50\n",
      "1875/1875 [==============================] - 59s 31ms/step - loss: 0.3201 - accuracy: 0.8830\n",
      "Epoch 10/50\n",
      "1875/1875 [==============================] - 60s 32ms/step - loss: 0.3095 - accuracy: 0.8878\n",
      "Epoch 11/50\n",
      "1875/1875 [==============================] - 57s 31ms/step - loss: 0.2979 - accuracy: 0.8921\n",
      "Epoch 12/50\n",
      "1875/1875 [==============================] - 58s 31ms/step - loss: 0.2895 - accuracy: 0.8945\n",
      "Epoch 13/50\n",
      "1875/1875 [==============================] - 57s 31ms/step - loss: 0.2809 - accuracy: 0.8971\n",
      "Epoch 14/50\n",
      "1875/1875 [==============================] - 58s 31ms/step - loss: 0.2730 - accuracy: 0.9011\n",
      "Epoch 15/50\n",
      "1875/1875 [==============================] - 58s 31ms/step - loss: 0.2649 - accuracy: 0.90290s - loss: 0\n",
      "Epoch 16/50\n",
      "1875/1875 [==============================] - 58s 31ms/step - loss: 0.2585 - accuracy: 0.9054\n",
      "Epoch 17/50\n",
      "1875/1875 [==============================] - 56s 30ms/step - loss: 0.2523 - accuracy: 0.9078\n",
      "Epoch 18/50\n",
      "1875/1875 [==============================] - 62s 33ms/step - loss: 0.2468 - accuracy: 0.9089\n",
      "Epoch 19/50\n",
      "1875/1875 [==============================] - 77s 41ms/step - loss: 0.2407 - accuracy: 0.9114\n",
      "Epoch 20/50\n",
      "1875/1875 [==============================] - 77s 41ms/step - loss: 0.2346 - accuracy: 0.91330s - loss: 0.2346 - accuracy: 0.91\n",
      "Epoch 21/50\n",
      "1875/1875 [==============================] - 78s 42ms/step - loss: 0.2283 - accuracy: 0.9164\n",
      "Epoch 22/50\n",
      "1875/1875 [==============================] - 78s 41ms/step - loss: 0.2248 - accuracy: 0.9171\n",
      "Epoch 23/50\n",
      "1875/1875 [==============================] - 77s 41ms/step - loss: 0.2195 - accuracy: 0.9198\n",
      "Epoch 24/50\n",
      "1875/1875 [==============================] - 77s 41ms/step - loss: 0.2147 - accuracy: 0.9225\n",
      "Epoch 25/50\n",
      "1875/1875 [==============================] - 77s 41ms/step - loss: 0.2106 - accuracy: 0.9226\n",
      "Epoch 26/50\n",
      "1875/1875 [==============================] - 75s 40ms/step - loss: 0.2048 - accuracy: 0.9246\n",
      "Epoch 27/50\n",
      "1875/1875 [==============================] - 76s 41ms/step - loss: 0.2009 - accuracy: 0.9259\n",
      "Epoch 28/50\n",
      "1875/1875 [==============================] - 78s 42ms/step - loss: 0.1966 - accuracy: 0.9285\n",
      "Threshold is met\n"
     ]
    },
    {
     "data": {
      "text/plain": [
       "<tensorflow.python.keras.callbacks.History at 0x29d9fd97f40>"
      ]
     },
     "execution_count": 11,
     "metadata": {},
     "output_type": "execute_result"
    }
   ],
   "source": [
    "#train the model with the callback included\n",
    "#Now we set the threshold to 0.2\n",
    "model.fit(x_train, y_train,callbacks=[StopCallback(0.2)], epochs=50)"
   ]
  },
  {
   "cell_type": "code",
   "execution_count": 12,
   "id": "f1b4139b",
   "metadata": {},
   "outputs": [
    {
     "name": "stdout",
     "output_type": "stream",
     "text": [
      "313/313 [==============================] - 4s 12ms/step - loss: 0.2743 - accuracy: 0.9044\n"
     ]
    },
    {
     "data": {
      "text/plain": [
       "[0.27425047755241394, 0.9043999910354614]"
      ]
     },
     "execution_count": 12,
     "metadata": {},
     "output_type": "execute_result"
    }
   ],
   "source": [
    "model.evaluate(x_test, y_test)"
   ]
  },
  {
   "cell_type": "markdown",
   "id": "6eb197c1",
   "metadata": {},
   "source": [
    "# Interpretation"
   ]
  },
  {
   "cell_type": "markdown",
   "id": "48510f20",
   "metadata": {},
   "source": [
    "Now let understand what the first layer is doing"
   ]
  },
  {
   "cell_type": "code",
   "execution_count": 13,
   "id": "e28f9cc9",
   "metadata": {},
   "outputs": [
    {
     "name": "stdout",
     "output_type": "stream",
     "text": [
      "Shape of the weights: (3, 3, 1, 64) \n",
      "Shape of the biais: (64,)\n"
     ]
    }
   ],
   "source": [
    "#we get the first layers\n",
    "layer1 = model.layers[0]\n",
    "#now we get the weights and the biais of the layer1\n",
    "weights = np.array(layer1.get_weights()[0])\n",
    "biais = np.array(layer1.get_weights()[1])\n",
    "\n",
    "print(f\"Shape of the weights: {weights.shape} \\nShape of the biais: {biais.shape}\" )"
   ]
  },
  {
   "cell_type": "code",
   "execution_count": 14,
   "id": "0b0c9087",
   "metadata": {},
   "outputs": [
    {
     "name": "stdout",
     "output_type": "stream",
     "text": [
      "[[[-0.12000124]\n",
      "  [-0.16910699]\n",
      "  [ 0.26478112]]\n",
      "\n",
      " [[-0.01358608]\n",
      "  [-0.3262945 ]\n",
      "  [ 0.32978815]]\n",
      "\n",
      " [[ 0.01857108]\n",
      "  [-0.20396413]\n",
      "  [ 0.17971155]]]\n"
     ]
    }
   ],
   "source": [
    "#Then we can see the filters contains in the first layer\n",
    "filter_index = 0\n",
    "print(weights[:,:,:,filter_index])"
   ]
  },
  {
   "cell_type": "markdown",
   "id": "67e74b11",
   "metadata": {},
   "source": [
    "Now let's see what this first filter of the first layer is doing"
   ]
  },
  {
   "cell_type": "code",
   "execution_count": 15,
   "id": "711ffb0a",
   "metadata": {},
   "outputs": [],
   "source": [
    "#we take the 1000 first image in the train set\n",
    "subset = x_train[:1000]\n",
    "#we pass it through the first layer\n",
    "output_first_layer = layer1(subset)\n",
    "#we extract the output of the first filter on the image\n",
    "output_first_filter = output_first_layer[:,:,:,0]\n",
    "\n",
    "#we want to plot the images that have the highest activation and\n",
    "#try to identify to common feature in these image\n",
    "#then we can deduce what the first filter does\n",
    "average_activation = np.average(output_first_filter, axis=(1,2))\n",
    "sorted_indexes = np.argsort(average_activation)\n",
    "\n",
    "\n",
    "#select the 9 image with higest activation\n",
    "selected_indexes = sorted_indexes[:9]\n",
    "selected_images = subset[selected_indexes]\n",
    "\n",
    "selected_activations = np.array(output_first_filter)[selected_indexes]"
   ]
  },
  {
   "cell_type": "code",
   "execution_count": 16,
   "id": "ff0158ca",
   "metadata": {},
   "outputs": [
    {
     "data": {
      "image/png": "[encoded data removed]",
      "text/plain": [
       "<Figure size 720x720 with 9 Axes>"
      ]
     },
     "metadata": {
      "needs_background": "light"
     },
     "output_type": "display_data"
    },
    {
     "data": {
      "image/png": "[encoded data removed]",
      "text/plain": [
       "<Figure size 720x720 with 9 Axes>"
      ]
     },
     "metadata": {
      "needs_background": "light"
     },
     "output_type": "display_data"
    }
   ],
   "source": [
    "plt.rcParams[\"figure.figsize\"] = (10,10)\n",
    "f1, axarr1 = plt.subplots(1,9)\n",
    "f2, axarr2 = plt.subplots(1,9)\n",
    "\n",
    "for i in range(9):\n",
    "    axarr1[i].imshow(selected_images[i,:,:,0])\n",
    "    axarr2[i].imshow(selected_activations[i])\n",
    "    axarr1[i].grid(False)\n",
    "    axarr2[i].grid(False)"
   ]
  },
  {
   "cell_type": "markdown",
   "id": "1deeacc7",
   "metadata": {},
   "source": [
    "We can see that the first layer of the first layer put emphasis on the vertical lines(not exactly)<br>\n",
    "If we test some other filter we can see what they really doing\\nsometimes it is hard to describe it<br>\n",
    "But with that we can have a sense of what convolution net work<br>\n",
    "<br>\n",
    "We have many filter that extract different features and we combine these features to extract complex features<br>\n",
    "And with the complex feature we can use dense layer to predict the type of the image"
   ]
  },
  {
   "cell_type": "code",
   "execution_count": null,
   "id": "0f154c75",
   "metadata": {},
   "outputs": [],
   "source": []
  }
 ],
 "metadata": {
  "kernelspec": {
   "display_name": "Python 3 (ipykernel)",
   "language": "python",
   "name": "python3"
  },
  "language_info": {
   "codemirror_mode": {
    "name": "ipython",
    "version": 3
   },
   "file_extension": ".py",
   "mimetype": "text/x-python",
   "name": "python",
   "nbconvert_exporter": "python",
   "pygments_lexer": "ipython3",
   "version": "3.9.6"
  }
 },
 "nbformat": 4,
 "nbformat_minor": 5
}
